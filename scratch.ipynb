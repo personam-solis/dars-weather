{
 "cells": [
  {
   "cell_type": "markdown",
   "source": [
    "# Work in progress"
   ],
   "metadata": {
    "collapsed": false
   },
   "id": "dcfde33734da7639"
  },
  {
   "cell_type": "markdown",
   "source": [
    "## Getting response from NWS\n",
    "\n",
    "https://github.com/weather-gov/api/discussions/558"
   ],
   "metadata": {
    "collapsed": false
   },
   "id": "ccd73a77f92eab4e"
  },
  {
   "cell_type": "code",
   "execution_count": 1,
   "outputs": [],
   "source": [
    "import json\n",
    "import googlemaps\n",
    "import requests"
   ],
   "metadata": {
    "collapsed": false,
    "ExecuteTime": {
     "end_time": "2023-12-29T19:04:06.905551233Z",
     "start_time": "2023-12-29T19:04:06.889343121Z"
    }
   },
   "id": "55d4704746650bd2"
  },
  {
   "cell_type": "code",
   "execution_count": 2,
   "outputs": [],
   "source": [
    "point_api = 'https://api.weather.gov/points/39.7392,-104.9915'\n",
    "user_agent_header = {'User-Agent': 'dars-weather.com kevin.phate@gmail.com'}\n",
    "response = requests.get(url=point_api, headers=user_agent_header).json()"
   ],
   "metadata": {
    "collapsed": false,
    "ExecuteTime": {
     "end_time": "2023-12-29T19:04:14.364771206Z",
     "start_time": "2023-12-29T19:04:14.125110274Z"
    }
   },
   "id": "5618dc386b46b083"
  },
  {
   "cell_type": "code",
   "execution_count": 5,
   "outputs": [],
   "source": [
    "observation_stations = response['properties']['observationStations']\n",
    "forcast_url = response['properties']['forecast']"
   ],
   "metadata": {
    "collapsed": false,
    "ExecuteTime": {
     "end_time": "2023-12-29T19:07:10.653102651Z",
     "start_time": "2023-12-29T19:07:10.610199541Z"
    }
   },
   "id": "c2ae3f7fa0b3c6f0"
  },
  {
   "cell_type": "code",
   "execution_count": null,
   "outputs": [],
   "source": [],
   "metadata": {
    "collapsed": false
   },
   "id": "2234c14510c68163"
  }
 ],
 "metadata": {
  "kernelspec": {
   "display_name": "Python 3",
   "language": "python",
   "name": "python3"
  },
  "language_info": {
   "codemirror_mode": {
    "name": "ipython",
    "version": 2
   },
   "file_extension": ".py",
   "mimetype": "text/x-python",
   "name": "python",
   "nbconvert_exporter": "python",
   "pygments_lexer": "ipython2",
   "version": "2.7.6"
  }
 },
 "nbformat": 4,
 "nbformat_minor": 5
}
